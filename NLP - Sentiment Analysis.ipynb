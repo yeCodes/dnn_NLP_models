{
 "cells": [
  {
   "cell_type": "markdown",
   "id": "b4544c47",
   "metadata": {},
   "source": [
    "### Sentiment Analysis - Text Classification\n",
    "\n",
    "#### Model documentation - https://huggingface.co/tasks/text-classification"
   ]
  },
  {
   "cell_type": "code",
   "execution_count": 1,
   "id": "bc635453",
   "metadata": {},
   "outputs": [],
   "source": [
    "# INSTALL dependencies - tensorflow and pytorch\n",
    "\n",
    "# install tensorflow\n",
    "#pip install tensorflow\n",
    "\n",
    "# install pytorch - hugging face pre-requisite - https://huggingface.co/transformers/v3.5.1/installation.html#:~:text=To%20install%20from%20source%2C%20clone%20the%20repository%20and,transformers%20pip%20install%20-e.%20Again%2C%20you%20can%20run\n",
    "#https://www.geeksforgeeks.org/install-pytorch-on-windows/"
   ]
  },
  {
   "cell_type": "code",
   "execution_count": null,
   "id": "da816e45",
   "metadata": {},
   "outputs": [],
   "source": [
    "from transformers import pipeline\n"
   ]
  },
  {
   "cell_type": "markdown",
   "id": "d1c25fc3",
   "metadata": {},
   "source": [
    "### Load summarisation pipeline"
   ]
  },
  {
   "cell_type": "code",
   "execution_count": null,
   "id": "77c7b880",
   "metadata": {},
   "outputs": [],
   "source": [
    "# http://net-informations.com/python/err/eol.htm - multi-line string - use \"\"\" text \"\"\"\n",
    "# https://huggingface.co/tasks/summarization - quickstart\n",
    "\n",
    "classifier = pipeline(\"summarization\")\n",
    "string = \"Paris is the capital and most populous city of France, with an estimated population of 2,175,601 residents as of 2018, in an area of more than 105 square kilometres (41 square miles). The City of Paris is the centre and seat of government of the region and province of Île-de-France, or Paris Region, which has an estimated population of 12,174,880, or about 18 percent of the population of France as of 2017.\"\n",
    "\n",
    "classifier(string)\n",
    "\n"
   ]
  },
  {
   "cell_type": "code",
   "execution_count": null,
   "id": "664d6882",
   "metadata": {},
   "outputs": [],
   "source": [
    "tringTwo = \"Hugging Face is the home for all Machine Learning tasks. Here you can find what you need to get started with a task: demos, use cases, models, datasets, and more!\"\n",
    "sentimentAnalysis(stringTwo)"
   ]
  },
  {
   "cell_type": "code",
   "execution_count": null,
   "id": "b8eb656a",
   "metadata": {},
   "outputs": [],
   "source": [
    "stringThree = \"Monday is a day of the week.\"\n",
    "sentimentAnalysis(stringThree)"
   ]
  }
 ],
 "metadata": {
  "kernelspec": {
   "display_name": "Python 3 (ipykernel)",
   "language": "python",
   "name": "python3"
  },
  "language_info": {
   "codemirror_mode": {
    "name": "ipython",
    "version": 3
   },
   "file_extension": ".py",
   "mimetype": "text/x-python",
   "name": "python",
   "nbconvert_exporter": "python",
   "pygments_lexer": "ipython3",
   "version": "3.9.12"
  }
 },
 "nbformat": 4,
 "nbformat_minor": 5
}
