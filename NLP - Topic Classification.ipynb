{
 "cells": [
  {
   "cell_type": "markdown",
   "id": "ae78f1e1",
   "metadata": {},
   "source": [
    "## Topic classication\n",
    "\n",
    "#### Model - https://huggingface.co/jonaskoenig/topic_classification_04?text=Today+is+overcast+and+tomorrow+will+also+be.\n",
    "##### Model documentation - https://huggingface.co/docs/transformers/main/en/model_doc/bert#transformers.BertForSequenceClassification\n"
   ]
  },
  {
   "cell_type": "code",
   "execution_count": 1,
   "id": "cf57cae5",
   "metadata": {},
   "outputs": [],
   "source": [
    "# INSTALL dependencies - tensorflow and pytorch\n",
    "\n",
    "# install tensorflow\n",
    "#pip install tensorflow\n",
    "\n",
    "# install pytorch - hugging face pre-requisite - https://huggingface.co/transformers/v3.5.1/installation.html#:~:text=To%20install%20from%20source%2C%20clone%20the%20repository%20and,transformers%20pip%20install%20-e.%20Again%2C%20you%20can%20run\n",
    "#https://www.geeksforgeeks.org/install-pytorch-on-windows/"
   ]
  },
  {
   "cell_type": "code",
   "execution_count": null,
   "id": "19ed2b12",
   "metadata": {},
   "outputs": [],
   "source": [
    "from transformers import pipeline\n"
   ]
  },
  {
   "cell_type": "markdown",
   "id": "77a92d93",
   "metadata": {},
   "source": [
    "### Load summarisation pipeline"
   ]
  },
  {
   "cell_type": "code",
   "execution_count": null,
   "id": "d6b4566d",
   "metadata": {},
   "outputs": [],
   "source": [
    "from transformers import AutoTokenizer, AutoModelForSequenceClassification\n",
    "\n",
    "# in accordance with error message, parameter from_tf = True was added.\n",
    "# search 'from_tf' here for more insights - https://huggingface.co/transformers/v3.0.2/model_doc/auto.html\n",
    "\n",
    "tokenizer = AutoTokenizer.from_pretrained(\"jonaskoenig/topic_classification_04\", from_tf = True)\n",
    "\n",
    "model = AutoModelForSequenceClassification.from_pretrained(\"jonaskoenig/topic_classification_04\", from_tf = True)\n",
    "\n",
    "# Clues on how to get outputs\n",
    "# https://huggingface.co/sampathkethineedi/industry-classification\n",
    "# https://huggingface.co/sampathkethineedi/industry-classification\n",
    "\n",
    "test = pipeline(\"sentiment-analysis\", model=model, tokenizer=tokenizer)\n",
    "test(\"I like ice skating during the olympics\")\n",
    "test(\" Australia has many dangerous wild animals\")"
   ]
  }
 ],
 "metadata": {
  "kernelspec": {
   "display_name": "Python 3 (ipykernel)",
   "language": "python",
   "name": "python3"
  },
  "language_info": {
   "codemirror_mode": {
    "name": "ipython",
    "version": 3
   },
   "file_extension": ".py",
   "mimetype": "text/x-python",
   "name": "python",
   "nbconvert_exporter": "python",
   "pygments_lexer": "ipython3",
   "version": "3.9.12"
  }
 },
 "nbformat": 4,
 "nbformat_minor": 5
}
